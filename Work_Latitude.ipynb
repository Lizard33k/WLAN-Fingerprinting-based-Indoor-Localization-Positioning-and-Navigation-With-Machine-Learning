{
 "cells": [
  {
   "cell_type": "code",
   "execution_count": 1,
   "metadata": {},
   "outputs": [
    {
     "name": "stderr",
     "output_type": "stream",
     "text": [
      "2022-08-04 19:16:49.804492: W tensorflow/stream_executor/platform/default/dso_loader.cc:64] Could not load dynamic library 'libcudart.so.11.0'; dlerror: libcudart.so.11.0: cannot open shared object file: No such file or directory\n",
      "2022-08-04 19:16:49.804561: I tensorflow/stream_executor/cuda/cudart_stub.cc:29] Ignore above cudart dlerror if you do not have a GPU set up on your machine.\n"
     ]
    }
   ],
   "source": [
    "import numpy as np\n",
    "import pandas as pd\n",
    "import matplotlib.pyplot as plt\n",
    "import seaborn as sns\n",
    "from sklearn.model_selection import StratifiedKFold\n",
    "folds = StratifiedKFold(n_splits=10)\n",
    "from sklearn.model_selection import cross_val_score\n",
    "from sklearn.metrics import confusion_matrix\n",
    "from sklearn.metrics import precision_score, recall_score,f1_score\n",
    "from sklearn.model_selection import train_test_split\n",
    "import tensorflow as tf\n",
    "from sklearn.metrics import roc_auc_score\n",
    "import six\n",
    "import sys\n",
    "sys.modules['sklearn.externals.six'] = six\n",
    "import math \n"
   ]
  },
  {
   "cell_type": "code",
   "execution_count": 2,
   "metadata": {},
   "outputs": [],
   "source": [
    "from sklearn.feature_selection import SelectKBest\n",
    "from sklearn.feature_selection import f_regression\n",
    "from sklearn.metrics import mean_squared_error\n",
    "from sklearn.metrics import mean_absolute_error as mae"
   ]
  },
  {
   "cell_type": "code",
   "execution_count": 3,
   "metadata": {},
   "outputs": [
    {
     "data": {
      "text/html": [
       "<div>\n",
       "<style scoped>\n",
       "    .dataframe tbody tr th:only-of-type {\n",
       "        vertical-align: middle;\n",
       "    }\n",
       "\n",
       "    .dataframe tbody tr th {\n",
       "        vertical-align: top;\n",
       "    }\n",
       "\n",
       "    .dataframe thead th {\n",
       "        text-align: right;\n",
       "    }\n",
       "</style>\n",
       "<table border=\"1\" class=\"dataframe\">\n",
       "  <thead>\n",
       "    <tr style=\"text-align: right;\">\n",
       "      <th></th>\n",
       "      <th>WAP001</th>\n",
       "      <th>WAP002</th>\n",
       "      <th>WAP003</th>\n",
       "      <th>WAP004</th>\n",
       "      <th>WAP005</th>\n",
       "      <th>WAP006</th>\n",
       "      <th>WAP007</th>\n",
       "      <th>WAP008</th>\n",
       "      <th>WAP009</th>\n",
       "      <th>WAP010</th>\n",
       "      <th>...</th>\n",
       "      <th>WAP520</th>\n",
       "      <th>LONGITUDE</th>\n",
       "      <th>LATITUDE</th>\n",
       "      <th>FLOOR</th>\n",
       "      <th>BUILDINGID</th>\n",
       "      <th>SPACEID</th>\n",
       "      <th>RELATIVEPOSITION</th>\n",
       "      <th>USERID</th>\n",
       "      <th>PHONEID</th>\n",
       "      <th>TIMESTAMP</th>\n",
       "    </tr>\n",
       "  </thead>\n",
       "  <tbody>\n",
       "    <tr>\n",
       "      <th>19932</th>\n",
       "      <td>100</td>\n",
       "      <td>100</td>\n",
       "      <td>100</td>\n",
       "      <td>100</td>\n",
       "      <td>100</td>\n",
       "      <td>100</td>\n",
       "      <td>100</td>\n",
       "      <td>100</td>\n",
       "      <td>100</td>\n",
       "      <td>100</td>\n",
       "      <td>...</td>\n",
       "      <td>100</td>\n",
       "      <td>-7485.4686</td>\n",
       "      <td>4.864875e+06</td>\n",
       "      <td>3</td>\n",
       "      <td>1</td>\n",
       "      <td>1</td>\n",
       "      <td>2</td>\n",
       "      <td>18</td>\n",
       "      <td>10</td>\n",
       "      <td>1371710683</td>\n",
       "    </tr>\n",
       "    <tr>\n",
       "      <th>19933</th>\n",
       "      <td>100</td>\n",
       "      <td>100</td>\n",
       "      <td>100</td>\n",
       "      <td>100</td>\n",
       "      <td>100</td>\n",
       "      <td>100</td>\n",
       "      <td>100</td>\n",
       "      <td>100</td>\n",
       "      <td>100</td>\n",
       "      <td>100</td>\n",
       "      <td>...</td>\n",
       "      <td>100</td>\n",
       "      <td>-7390.6206</td>\n",
       "      <td>4.864836e+06</td>\n",
       "      <td>1</td>\n",
       "      <td>2</td>\n",
       "      <td>140</td>\n",
       "      <td>2</td>\n",
       "      <td>18</td>\n",
       "      <td>10</td>\n",
       "      <td>1371710402</td>\n",
       "    </tr>\n",
       "    <tr>\n",
       "      <th>19934</th>\n",
       "      <td>100</td>\n",
       "      <td>100</td>\n",
       "      <td>100</td>\n",
       "      <td>100</td>\n",
       "      <td>100</td>\n",
       "      <td>100</td>\n",
       "      <td>100</td>\n",
       "      <td>100</td>\n",
       "      <td>100</td>\n",
       "      <td>100</td>\n",
       "      <td>...</td>\n",
       "      <td>100</td>\n",
       "      <td>-7516.8415</td>\n",
       "      <td>4.864889e+06</td>\n",
       "      <td>3</td>\n",
       "      <td>1</td>\n",
       "      <td>13</td>\n",
       "      <td>2</td>\n",
       "      <td>18</td>\n",
       "      <td>10</td>\n",
       "      <td>1371710921</td>\n",
       "    </tr>\n",
       "    <tr>\n",
       "      <th>19935</th>\n",
       "      <td>100</td>\n",
       "      <td>100</td>\n",
       "      <td>100</td>\n",
       "      <td>100</td>\n",
       "      <td>100</td>\n",
       "      <td>100</td>\n",
       "      <td>100</td>\n",
       "      <td>100</td>\n",
       "      <td>100</td>\n",
       "      <td>100</td>\n",
       "      <td>...</td>\n",
       "      <td>100</td>\n",
       "      <td>-7537.3219</td>\n",
       "      <td>4.864896e+06</td>\n",
       "      <td>3</td>\n",
       "      <td>1</td>\n",
       "      <td>113</td>\n",
       "      <td>2</td>\n",
       "      <td>18</td>\n",
       "      <td>10</td>\n",
       "      <td>1371711049</td>\n",
       "    </tr>\n",
       "    <tr>\n",
       "      <th>19936</th>\n",
       "      <td>100</td>\n",
       "      <td>100</td>\n",
       "      <td>100</td>\n",
       "      <td>100</td>\n",
       "      <td>100</td>\n",
       "      <td>100</td>\n",
       "      <td>100</td>\n",
       "      <td>100</td>\n",
       "      <td>100</td>\n",
       "      <td>100</td>\n",
       "      <td>...</td>\n",
       "      <td>100</td>\n",
       "      <td>-7536.1658</td>\n",
       "      <td>4.864898e+06</td>\n",
       "      <td>3</td>\n",
       "      <td>1</td>\n",
       "      <td>112</td>\n",
       "      <td>2</td>\n",
       "      <td>18</td>\n",
       "      <td>10</td>\n",
       "      <td>1371711025</td>\n",
       "    </tr>\n",
       "  </tbody>\n",
       "</table>\n",
       "<p>5 rows × 529 columns</p>\n",
       "</div>"
      ],
      "text/plain": [
       "       WAP001  WAP002  WAP003  WAP004  WAP005  WAP006  WAP007  WAP008  WAP009  \\\n",
       "19932     100     100     100     100     100     100     100     100     100   \n",
       "19933     100     100     100     100     100     100     100     100     100   \n",
       "19934     100     100     100     100     100     100     100     100     100   \n",
       "19935     100     100     100     100     100     100     100     100     100   \n",
       "19936     100     100     100     100     100     100     100     100     100   \n",
       "\n",
       "       WAP010  ...  WAP520  LONGITUDE      LATITUDE  FLOOR  BUILDINGID  \\\n",
       "19932     100  ...     100 -7485.4686  4.864875e+06      3           1   \n",
       "19933     100  ...     100 -7390.6206  4.864836e+06      1           2   \n",
       "19934     100  ...     100 -7516.8415  4.864889e+06      3           1   \n",
       "19935     100  ...     100 -7537.3219  4.864896e+06      3           1   \n",
       "19936     100  ...     100 -7536.1658  4.864898e+06      3           1   \n",
       "\n",
       "       SPACEID  RELATIVEPOSITION  USERID  PHONEID   TIMESTAMP  \n",
       "19932        1                 2      18       10  1371710683  \n",
       "19933      140                 2      18       10  1371710402  \n",
       "19934       13                 2      18       10  1371710921  \n",
       "19935      113                 2      18       10  1371711049  \n",
       "19936      112                 2      18       10  1371711025  \n",
       "\n",
       "[5 rows x 529 columns]"
      ]
     },
     "execution_count": 3,
     "metadata": {},
     "output_type": "execute_result"
    }
   ],
   "source": [
    "df = pd.read_csv(\"/home/lizard/Documents/Indoor localization Dataset/TrainingData.csv\")\n",
    "df.tail()"
   ]
  },
  {
   "cell_type": "code",
   "execution_count": 4,
   "metadata": {},
   "outputs": [],
   "source": [
    "X = df.drop(['LONGITUDE',\t'LATITUDE',\t'FLOOR',\t'BUILDINGID',\t'SPACEID',\t'RELATIVEPOSITION',\t'USERID',\t'PHONEID',\t'TIMESTAMP'],axis=1)\n",
    "y = df['LATITUDE']"
   ]
  },
  {
   "cell_type": "code",
   "execution_count": 5,
   "metadata": {},
   "outputs": [],
   "source": [
    "from sklearn.preprocessing import StandardScaler\n",
    "scaler=StandardScaler()\n",
    "scaler.fit(X)\n",
    "scaled_data_X=scaler.transform(X)"
   ]
  },
  {
   "cell_type": "code",
   "execution_count": 6,
   "metadata": {},
   "outputs": [],
   "source": [
    "X_new = SelectKBest(f_regression, k=300).fit_transform(scaled_data_X, y)"
   ]
  },
  {
   "cell_type": "code",
   "execution_count": 7,
   "metadata": {},
   "outputs": [],
   "source": [
    "X_train, X_test, y_train, y_test = train_test_split(X_new, y, test_size=0.33, random_state=42)"
   ]
  },
  {
   "cell_type": "code",
   "execution_count": 8,
   "metadata": {},
   "outputs": [
    {
     "data": {
      "text/plain": [
       "(19937, 300)"
      ]
     },
     "execution_count": 8,
     "metadata": {},
     "output_type": "execute_result"
    }
   ],
   "source": [
    "X_new.shape"
   ]
  },
  {
   "cell_type": "code",
   "execution_count": 9,
   "metadata": {},
   "outputs": [],
   "source": [
    "from sklearn.ensemble import RandomForestRegressor\n",
    "from sklearn.model_selection import RandomizedSearchCV"
   ]
  },
  {
   "cell_type": "markdown",
   "metadata": {},
   "source": [
    "Hyper parameter optimization for Random Forest Regressor"
   ]
  },
  {
   "cell_type": "code",
   "execution_count": 10,
   "metadata": {},
   "outputs": [
    {
     "name": "stdout",
     "output_type": "stream",
     "text": [
      "Fitting 3 folds for each of 10 candidates, totalling 30 fits\n",
      "[CV 1/3; 1/10] START max_depth=5, min_samples_split=4, n_estimators=120.........\n",
      "[CV 1/3; 1/10] END max_depth=5, min_samples_split=4, n_estimators=120;, score=0.839 total time=  11.6s\n",
      "[CV 2/3; 1/10] START max_depth=5, min_samples_split=4, n_estimators=120.........\n",
      "[CV 2/3; 1/10] END max_depth=5, min_samples_split=4, n_estimators=120;, score=0.824 total time=  11.2s\n",
      "[CV 3/3; 1/10] START max_depth=5, min_samples_split=4, n_estimators=120.........\n",
      "[CV 3/3; 1/10] END max_depth=5, min_samples_split=4, n_estimators=120;, score=0.826 total time=  11.7s\n",
      "[CV 1/3; 2/10] START max_depth=20, min_samples_split=10, n_estimators=40........\n",
      "[CV 1/3; 2/10] END max_depth=20, min_samples_split=10, n_estimators=40;, score=0.981 total time=   8.7s\n",
      "[CV 2/3; 2/10] START max_depth=20, min_samples_split=10, n_estimators=40........\n",
      "[CV 2/3; 2/10] END max_depth=20, min_samples_split=10, n_estimators=40;, score=0.981 total time=   9.2s\n",
      "[CV 3/3; 2/10] START max_depth=20, min_samples_split=10, n_estimators=40........\n",
      "[CV 3/3; 2/10] END max_depth=20, min_samples_split=10, n_estimators=40;, score=0.981 total time=  10.4s\n",
      "[CV 1/3; 3/10] START max_depth=5, min_samples_split=2, n_estimators=40..........\n",
      "[CV 1/3; 3/10] END max_depth=5, min_samples_split=2, n_estimators=40;, score=0.835 total time=   4.0s\n",
      "[CV 2/3; 3/10] START max_depth=5, min_samples_split=2, n_estimators=40..........\n",
      "[CV 2/3; 3/10] END max_depth=5, min_samples_split=2, n_estimators=40;, score=0.828 total time=   4.3s\n",
      "[CV 3/3; 3/10] START max_depth=5, min_samples_split=2, n_estimators=40..........\n",
      "[CV 3/3; 3/10] END max_depth=5, min_samples_split=2, n_estimators=40;, score=0.826 total time=   4.6s\n",
      "[CV 1/3; 4/10] START max_depth=5, min_samples_split=8, n_estimators=40..........\n",
      "[CV 1/3; 4/10] END max_depth=5, min_samples_split=8, n_estimators=40;, score=0.838 total time=   4.7s\n",
      "[CV 2/3; 4/10] START max_depth=5, min_samples_split=8, n_estimators=40..........\n",
      "[CV 2/3; 4/10] END max_depth=5, min_samples_split=8, n_estimators=40;, score=0.824 total time=   4.2s\n",
      "[CV 3/3; 4/10] START max_depth=5, min_samples_split=8, n_estimators=40..........\n",
      "[CV 3/3; 4/10] END max_depth=5, min_samples_split=8, n_estimators=40;, score=0.821 total time=   4.4s\n",
      "[CV 1/3; 5/10] START max_depth=10, min_samples_split=2, n_estimators=60.........\n",
      "[CV 1/3; 5/10] END max_depth=10, min_samples_split=2, n_estimators=60;, score=0.940 total time=  10.8s\n",
      "[CV 2/3; 5/10] START max_depth=10, min_samples_split=2, n_estimators=60.........\n",
      "[CV 2/3; 5/10] END max_depth=10, min_samples_split=2, n_estimators=60;, score=0.936 total time=   8.8s\n",
      "[CV 3/3; 5/10] START max_depth=10, min_samples_split=2, n_estimators=60.........\n",
      "[CV 3/3; 5/10] END max_depth=10, min_samples_split=2, n_estimators=60;, score=0.934 total time=   8.9s\n",
      "[CV 1/3; 6/10] START max_depth=15, min_samples_split=4, n_estimators=40.........\n",
      "[CV 1/3; 6/10] END max_depth=15, min_samples_split=4, n_estimators=40;, score=0.972 total time=   7.4s\n",
      "[CV 2/3; 6/10] START max_depth=15, min_samples_split=4, n_estimators=40.........\n",
      "[CV 2/3; 6/10] END max_depth=15, min_samples_split=4, n_estimators=40;, score=0.971 total time=   9.2s\n",
      "[CV 3/3; 6/10] START max_depth=15, min_samples_split=4, n_estimators=40.........\n",
      "[CV 3/3; 6/10] END max_depth=15, min_samples_split=4, n_estimators=40;, score=0.970 total time=   9.1s\n",
      "[CV 1/3; 7/10] START max_depth=10, min_samples_split=8, n_estimators=120........\n",
      "[CV 1/3; 7/10] END max_depth=10, min_samples_split=8, n_estimators=120;, score=0.939 total time=  19.8s\n",
      "[CV 2/3; 7/10] START max_depth=10, min_samples_split=8, n_estimators=120........\n",
      "[CV 2/3; 7/10] END max_depth=10, min_samples_split=8, n_estimators=120;, score=0.937 total time=  17.7s\n",
      "[CV 3/3; 7/10] START max_depth=10, min_samples_split=8, n_estimators=120........\n",
      "[CV 3/3; 7/10] END max_depth=10, min_samples_split=8, n_estimators=120;, score=0.935 total time=  17.9s\n",
      "[CV 1/3; 8/10] START max_depth=20, min_samples_split=8, n_estimators=20.........\n",
      "[CV 1/3; 8/10] END max_depth=20, min_samples_split=8, n_estimators=20;, score=0.980 total time=   4.0s\n",
      "[CV 2/3; 8/10] START max_depth=20, min_samples_split=8, n_estimators=20.........\n",
      "[CV 2/3; 8/10] END max_depth=20, min_samples_split=8, n_estimators=20;, score=0.981 total time=   4.2s\n",
      "[CV 3/3; 8/10] START max_depth=20, min_samples_split=8, n_estimators=20.........\n",
      "[CV 3/3; 8/10] END max_depth=20, min_samples_split=8, n_estimators=20;, score=0.981 total time=   4.9s\n",
      "[CV 1/3; 9/10] START max_depth=10, min_samples_split=10, n_estimators=80........\n",
      "[CV 1/3; 9/10] END max_depth=10, min_samples_split=10, n_estimators=80;, score=0.939 total time=  13.7s\n",
      "[CV 2/3; 9/10] START max_depth=10, min_samples_split=10, n_estimators=80........\n",
      "[CV 2/3; 9/10] END max_depth=10, min_samples_split=10, n_estimators=80;, score=0.934 total time=  13.8s\n",
      "[CV 3/3; 9/10] START max_depth=10, min_samples_split=10, n_estimators=80........\n",
      "[CV 3/3; 9/10] END max_depth=10, min_samples_split=10, n_estimators=80;, score=0.933 total time=  13.5s\n",
      "[CV 1/3; 10/10] START max_depth=20, min_samples_split=2, n_estimators=40........\n",
      "[CV 1/3; 10/10] END max_depth=20, min_samples_split=2, n_estimators=40;, score=0.981 total time=  11.9s\n",
      "[CV 2/3; 10/10] START max_depth=20, min_samples_split=2, n_estimators=40........\n",
      "[CV 2/3; 10/10] END max_depth=20, min_samples_split=2, n_estimators=40;, score=0.982 total time=  10.4s\n",
      "[CV 3/3; 10/10] START max_depth=20, min_samples_split=2, n_estimators=40........\n",
      "[CV 3/3; 10/10] END max_depth=20, min_samples_split=2, n_estimators=40;, score=0.981 total time=  11.3s\n"
     ]
    }
   ],
   "source": [
    "parameters = {'n_estimators': (20,40,60,80,100,120),'min_samples_split' : (2,4,8,10),'max_depth':(5,10,15,20)}\n",
    "                                                                                                                                     \n",
    "DT_grid_RF  = RandomizedSearchCV( RandomForestRegressor(), param_distributions = parameters, cv = 3, verbose = 10)\n",
    "result_RF=DT_grid_RF.fit(X_train,y_train)\n",
    "  \n",
    "RF= result_RF.best_estimator_"
   ]
  },
  {
   "cell_type": "code",
   "execution_count": 11,
   "metadata": {},
   "outputs": [
    {
     "name": "stdout",
     "output_type": "stream",
     "text": [
      "RandomForestRegressor(max_depth=20, n_estimators=40)\n"
     ]
    }
   ],
   "source": [
    "print(RF)"
   ]
  },
  {
   "cell_type": "code",
   "execution_count": 12,
   "metadata": {},
   "outputs": [],
   "source": [
    "from sklearn import linear_model"
   ]
  },
  {
   "cell_type": "markdown",
   "metadata": {},
   "source": [
    "Hyper parameter optimization for Ridge Regressor"
   ]
  },
  {
   "cell_type": "code",
   "execution_count": 13,
   "metadata": {},
   "outputs": [
    {
     "name": "stdout",
     "output_type": "stream",
     "text": [
      "Fitting 3 folds for each of 9 candidates, totalling 27 fits\n",
      "[CV 1/3; 1/9] START alpha=0.5, tol=0.001........................................\n"
     ]
    },
    {
     "name": "stderr",
     "output_type": "stream",
     "text": [
      "/home/lizard/.local/lib/python3.8/site-packages/sklearn/model_selection/_search.py:306: UserWarning: The total space of parameters 9 is smaller than n_iter=10. Running 9 iterations. For exhaustive searches, use GridSearchCV.\n",
      "  warnings.warn(\n"
     ]
    },
    {
     "name": "stdout",
     "output_type": "stream",
     "text": [
      "[CV 1/3; 1/9] END .........alpha=0.5, tol=0.001;, score=0.917 total time=   0.2s\n",
      "[CV 2/3; 1/9] START alpha=0.5, tol=0.001........................................\n",
      "[CV 2/3; 1/9] END .........alpha=0.5, tol=0.001;, score=0.915 total time=   0.2s\n",
      "[CV 3/3; 1/9] START alpha=0.5, tol=0.001........................................\n",
      "[CV 3/3; 1/9] END .........alpha=0.5, tol=0.001;, score=0.912 total time=   0.2s\n",
      "[CV 1/3; 2/9] START alpha=0.5, tol=0.0001.......................................\n",
      "[CV 1/3; 2/9] END ........alpha=0.5, tol=0.0001;, score=0.917 total time=   0.4s\n",
      "[CV 2/3; 2/9] START alpha=0.5, tol=0.0001.......................................\n",
      "[CV 2/3; 2/9] END ........alpha=0.5, tol=0.0001;, score=0.915 total time=   0.3s\n",
      "[CV 3/3; 2/9] START alpha=0.5, tol=0.0001.......................................\n",
      "[CV 3/3; 2/9] END ........alpha=0.5, tol=0.0001;, score=0.912 total time=   0.2s\n",
      "[CV 1/3; 3/9] START alpha=0.5, tol=0.01.........................................\n",
      "[CV 1/3; 3/9] END ..........alpha=0.5, tol=0.01;, score=0.917 total time=   0.2s\n",
      "[CV 2/3; 3/9] START alpha=0.5, tol=0.01.........................................\n",
      "[CV 2/3; 3/9] END ..........alpha=0.5, tol=0.01;, score=0.915 total time=   0.2s\n",
      "[CV 3/3; 3/9] START alpha=0.5, tol=0.01.........................................\n",
      "[CV 3/3; 3/9] END ..........alpha=0.5, tol=0.01;, score=0.912 total time=   0.3s\n",
      "[CV 1/3; 4/9] START alpha=1, tol=0.001..........................................\n",
      "[CV 1/3; 4/9] END ...........alpha=1, tol=0.001;, score=0.917 total time=   0.3s\n",
      "[CV 2/3; 4/9] START alpha=1, tol=0.001..........................................\n",
      "[CV 2/3; 4/9] END ...........alpha=1, tol=0.001;, score=0.915 total time=   0.2s\n",
      "[CV 3/3; 4/9] START alpha=1, tol=0.001..........................................\n",
      "[CV 3/3; 4/9] END ...........alpha=1, tol=0.001;, score=0.912 total time=   0.2s\n",
      "[CV 1/3; 5/9] START alpha=1, tol=0.0001.........................................\n",
      "[CV 1/3; 5/9] END ..........alpha=1, tol=0.0001;, score=0.917 total time=   0.3s\n",
      "[CV 2/3; 5/9] START alpha=1, tol=0.0001.........................................\n",
      "[CV 2/3; 5/9] END ..........alpha=1, tol=0.0001;, score=0.915 total time=   0.2s\n",
      "[CV 3/3; 5/9] START alpha=1, tol=0.0001.........................................\n",
      "[CV 3/3; 5/9] END ..........alpha=1, tol=0.0001;, score=0.912 total time=   0.3s\n",
      "[CV 1/3; 6/9] START alpha=1, tol=0.01...........................................\n",
      "[CV 1/3; 6/9] END ............alpha=1, tol=0.01;, score=0.917 total time=   0.3s\n",
      "[CV 2/3; 6/9] START alpha=1, tol=0.01...........................................\n",
      "[CV 2/3; 6/9] END ............alpha=1, tol=0.01;, score=0.915 total time=   0.2s\n",
      "[CV 3/3; 6/9] START alpha=1, tol=0.01...........................................\n",
      "[CV 3/3; 6/9] END ............alpha=1, tol=0.01;, score=0.912 total time=   0.3s\n",
      "[CV 1/3; 7/9] START alpha=10, tol=0.001.........................................\n",
      "[CV 1/3; 7/9] END ..........alpha=10, tol=0.001;, score=0.917 total time=   0.3s\n",
      "[CV 2/3; 7/9] START alpha=10, tol=0.001.........................................\n",
      "[CV 2/3; 7/9] END ..........alpha=10, tol=0.001;, score=0.915 total time=   0.2s\n",
      "[CV 3/3; 7/9] START alpha=10, tol=0.001.........................................\n",
      "[CV 3/3; 7/9] END ..........alpha=10, tol=0.001;, score=0.912 total time=   0.2s\n",
      "[CV 1/3; 8/9] START alpha=10, tol=0.0001........................................\n",
      "[CV 1/3; 8/9] END .........alpha=10, tol=0.0001;, score=0.917 total time=   0.4s\n",
      "[CV 2/3; 8/9] START alpha=10, tol=0.0001........................................\n",
      "[CV 2/3; 8/9] END .........alpha=10, tol=0.0001;, score=0.915 total time=   0.2s\n",
      "[CV 3/3; 8/9] START alpha=10, tol=0.0001........................................\n",
      "[CV 3/3; 8/9] END .........alpha=10, tol=0.0001;, score=0.912 total time=   0.3s\n",
      "[CV 1/3; 9/9] START alpha=10, tol=0.01..........................................\n",
      "[CV 1/3; 9/9] END ...........alpha=10, tol=0.01;, score=0.917 total time=   0.2s\n",
      "[CV 2/3; 9/9] START alpha=10, tol=0.01..........................................\n",
      "[CV 2/3; 9/9] END ...........alpha=10, tol=0.01;, score=0.915 total time=   0.3s\n",
      "[CV 3/3; 9/9] START alpha=10, tol=0.01..........................................\n",
      "[CV 3/3; 9/9] END ...........alpha=10, tol=0.01;, score=0.912 total time=   0.3s\n"
     ]
    }
   ],
   "source": [
    "parameters_ridge_reg = {'alpha': (0.5,1,10),'tol' : (.001,.0001,.01)}\n",
    "                                                                                                                                     \n",
    "DT_grid_ridge_reg  = RandomizedSearchCV( linear_model.Ridge(), param_distributions = parameters_ridge_reg, cv = 3, verbose = 10)\n",
    "result_ridge_reg=DT_grid_ridge_reg.fit(X_train,y_train)\n",
    "  \n",
    "ridge_res= result_ridge_reg.best_estimator_"
   ]
  },
  {
   "cell_type": "code",
   "execution_count": 14,
   "metadata": {},
   "outputs": [
    {
     "name": "stdout",
     "output_type": "stream",
     "text": [
      "Ridge(alpha=10)\n"
     ]
    }
   ],
   "source": [
    "print(ridge_res)"
   ]
  },
  {
   "cell_type": "markdown",
   "metadata": {},
   "source": [
    "Hyper parameter optimization for Lasso Regression"
   ]
  },
  {
   "cell_type": "code",
   "execution_count": 15,
   "metadata": {},
   "outputs": [
    {
     "name": "stdout",
     "output_type": "stream",
     "text": [
      "Fitting 3 folds for each of 9 candidates, totalling 27 fits\n",
      "[CV 1/3; 1/9] START alpha=0.5, tol=0.001........................................\n"
     ]
    },
    {
     "name": "stderr",
     "output_type": "stream",
     "text": [
      "/home/lizard/.local/lib/python3.8/site-packages/sklearn/model_selection/_search.py:306: UserWarning: The total space of parameters 9 is smaller than n_iter=10. Running 9 iterations. For exhaustive searches, use GridSearchCV.\n",
      "  warnings.warn(\n"
     ]
    },
    {
     "name": "stdout",
     "output_type": "stream",
     "text": [
      "[CV 1/3; 1/9] END .........alpha=0.5, tol=0.001;, score=0.913 total time=   0.5s\n",
      "[CV 2/3; 1/9] START alpha=0.5, tol=0.001........................................\n",
      "[CV 2/3; 1/9] END .........alpha=0.5, tol=0.001;, score=0.912 total time=   0.6s\n",
      "[CV 3/3; 1/9] START alpha=0.5, tol=0.001........................................\n",
      "[CV 3/3; 1/9] END .........alpha=0.5, tol=0.001;, score=0.910 total time=   0.6s\n",
      "[CV 1/3; 2/9] START alpha=0.5, tol=0.0001.......................................\n",
      "[CV 1/3; 2/9] END ........alpha=0.5, tol=0.0001;, score=0.913 total time=   0.8s\n",
      "[CV 2/3; 2/9] START alpha=0.5, tol=0.0001.......................................\n",
      "[CV 2/3; 2/9] END ........alpha=0.5, tol=0.0001;, score=0.912 total time=   0.8s\n",
      "[CV 3/3; 2/9] START alpha=0.5, tol=0.0001.......................................\n",
      "[CV 3/3; 2/9] END ........alpha=0.5, tol=0.0001;, score=0.910 total time=   0.9s\n",
      "[CV 1/3; 3/9] START alpha=0.5, tol=0.01.........................................\n",
      "[CV 1/3; 3/9] END ..........alpha=0.5, tol=0.01;, score=0.913 total time=   0.6s\n",
      "[CV 2/3; 3/9] START alpha=0.5, tol=0.01.........................................\n",
      "[CV 2/3; 3/9] END ..........alpha=0.5, tol=0.01;, score=0.912 total time=   0.5s\n",
      "[CV 3/3; 3/9] START alpha=0.5, tol=0.01.........................................\n",
      "[CV 3/3; 3/9] END ..........alpha=0.5, tol=0.01;, score=0.910 total time=   0.5s\n",
      "[CV 1/3; 4/9] START alpha=1, tol=0.001..........................................\n",
      "[CV 1/3; 4/9] END ...........alpha=1, tol=0.001;, score=0.908 total time=   0.5s\n",
      "[CV 2/3; 4/9] START alpha=1, tol=0.001..........................................\n",
      "[CV 2/3; 4/9] END ...........alpha=1, tol=0.001;, score=0.908 total time=   0.5s\n",
      "[CV 3/3; 4/9] START alpha=1, tol=0.001..........................................\n",
      "[CV 3/3; 4/9] END ...........alpha=1, tol=0.001;, score=0.906 total time=   0.6s\n",
      "[CV 1/3; 5/9] START alpha=1, tol=0.0001.........................................\n",
      "[CV 1/3; 5/9] END ..........alpha=1, tol=0.0001;, score=0.908 total time=   0.6s\n",
      "[CV 2/3; 5/9] START alpha=1, tol=0.0001.........................................\n",
      "[CV 2/3; 5/9] END ..........alpha=1, tol=0.0001;, score=0.908 total time=   0.8s\n",
      "[CV 3/3; 5/9] START alpha=1, tol=0.0001.........................................\n",
      "[CV 3/3; 5/9] END ..........alpha=1, tol=0.0001;, score=0.906 total time=   0.8s\n",
      "[CV 1/3; 6/9] START alpha=1, tol=0.01...........................................\n",
      "[CV 1/3; 6/9] END ............alpha=1, tol=0.01;, score=0.908 total time=   0.5s\n",
      "[CV 2/3; 6/9] START alpha=1, tol=0.01...........................................\n",
      "[CV 2/3; 6/9] END ............alpha=1, tol=0.01;, score=0.909 total time=   0.4s\n",
      "[CV 3/3; 6/9] START alpha=1, tol=0.01...........................................\n",
      "[CV 3/3; 6/9] END ............alpha=1, tol=0.01;, score=0.906 total time=   0.4s\n",
      "[CV 1/3; 7/9] START alpha=10, tol=0.001.........................................\n",
      "[CV 1/3; 7/9] END ..........alpha=10, tol=0.001;, score=0.707 total time=   0.4s\n",
      "[CV 2/3; 7/9] START alpha=10, tol=0.001.........................................\n",
      "[CV 2/3; 7/9] END ..........alpha=10, tol=0.001;, score=0.707 total time=   0.4s\n",
      "[CV 3/3; 7/9] START alpha=10, tol=0.001.........................................\n",
      "[CV 3/3; 7/9] END ..........alpha=10, tol=0.001;, score=0.708 total time=   0.4s\n",
      "[CV 1/3; 8/9] START alpha=10, tol=0.0001........................................\n",
      "[CV 1/3; 8/9] END .........alpha=10, tol=0.0001;, score=0.707 total time=   0.4s\n",
      "[CV 2/3; 8/9] START alpha=10, tol=0.0001........................................\n",
      "[CV 2/3; 8/9] END .........alpha=10, tol=0.0001;, score=0.707 total time=   0.4s\n",
      "[CV 3/3; 8/9] START alpha=10, tol=0.0001........................................\n",
      "[CV 3/3; 8/9] END .........alpha=10, tol=0.0001;, score=0.708 total time=   0.5s\n",
      "[CV 1/3; 9/9] START alpha=10, tol=0.01..........................................\n",
      "[CV 1/3; 9/9] END ...........alpha=10, tol=0.01;, score=0.707 total time=   0.3s\n",
      "[CV 2/3; 9/9] START alpha=10, tol=0.01..........................................\n",
      "[CV 2/3; 9/9] END ...........alpha=10, tol=0.01;, score=0.707 total time=   0.3s\n",
      "[CV 3/3; 9/9] START alpha=10, tol=0.01..........................................\n",
      "[CV 3/3; 9/9] END ...........alpha=10, tol=0.01;, score=0.708 total time=   0.3s\n"
     ]
    }
   ],
   "source": [
    "parameters_Lasso_reg = {'alpha': (0.5,1,10),'tol' : (.001,.0001,.01)}\n",
    "                                                                                                                                     \n",
    "DT_grid_Lasso_reg  = RandomizedSearchCV( linear_model.Lasso(), param_distributions = parameters_Lasso_reg, cv = 3, verbose = 10)\n",
    "result_lasso_reg=DT_grid_Lasso_reg.fit(X_train,y_train)\n",
    "  \n",
    "lasso_res= result_lasso_reg.best_estimator_"
   ]
  },
  {
   "cell_type": "code",
   "execution_count": 16,
   "metadata": {},
   "outputs": [
    {
     "name": "stdout",
     "output_type": "stream",
     "text": [
      "Lasso(alpha=0.5, tol=0.001)\n"
     ]
    }
   ],
   "source": [
    "print(lasso_res)"
   ]
  },
  {
   "cell_type": "code",
   "execution_count": 17,
   "metadata": {},
   "outputs": [],
   "source": [
    "from sklearn.neighbors import KNeighborsRegressor"
   ]
  },
  {
   "cell_type": "markdown",
   "metadata": {},
   "source": [
    "Hyperparameter optimization of KNN Regressor"
   ]
  },
  {
   "cell_type": "code",
   "execution_count": 43,
   "metadata": {},
   "outputs": [
    {
     "name": "stdout",
     "output_type": "stream",
     "text": [
      "Fitting 3 folds for each of 10 candidates, totalling 30 fits\n",
      "[CV 1/3; 1/10] START leaf_size=90, n_neighbors=25...............................\n",
      "[CV 1/3; 1/10] END leaf_size=90, n_neighbors=25;, score=0.974 total time=   0.6s\n",
      "[CV 2/3; 1/10] START leaf_size=90, n_neighbors=25...............................\n",
      "[CV 2/3; 1/10] END leaf_size=90, n_neighbors=25;, score=0.974 total time=   0.4s\n",
      "[CV 3/3; 1/10] START leaf_size=90, n_neighbors=25...............................\n",
      "[CV 3/3; 1/10] END leaf_size=90, n_neighbors=25;, score=0.973 total time=   0.4s\n",
      "[CV 1/3; 2/10] START leaf_size=60, n_neighbors=50...............................\n",
      "[CV 1/3; 2/10] END leaf_size=60, n_neighbors=50;, score=0.964 total time=   0.5s\n",
      "[CV 2/3; 2/10] START leaf_size=60, n_neighbors=50...............................\n",
      "[CV 2/3; 2/10] END leaf_size=60, n_neighbors=50;, score=0.962 total time=   0.5s\n",
      "[CV 3/3; 2/10] START leaf_size=60, n_neighbors=50...............................\n",
      "[CV 3/3; 2/10] END leaf_size=60, n_neighbors=50;, score=0.959 total time=   0.6s\n",
      "[CV 1/3; 3/10] START leaf_size=105, n_neighbors=5...............................\n",
      "[CV 1/3; 3/10] END leaf_size=105, n_neighbors=5;, score=0.982 total time=   0.7s\n",
      "[CV 2/3; 3/10] START leaf_size=105, n_neighbors=5...............................\n",
      "[CV 2/3; 3/10] END leaf_size=105, n_neighbors=5;, score=0.982 total time=   0.4s\n",
      "[CV 3/3; 3/10] START leaf_size=105, n_neighbors=5...............................\n",
      "[CV 3/3; 3/10] END leaf_size=105, n_neighbors=5;, score=0.983 total time=   0.4s\n",
      "[CV 1/3; 4/10] START leaf_size=90, n_neighbors=10...............................\n",
      "[CV 1/3; 4/10] END leaf_size=90, n_neighbors=10;, score=0.981 total time=   0.5s\n",
      "[CV 2/3; 4/10] START leaf_size=90, n_neighbors=10...............................\n",
      "[CV 2/3; 4/10] END leaf_size=90, n_neighbors=10;, score=0.981 total time=   0.5s\n",
      "[CV 3/3; 4/10] START leaf_size=90, n_neighbors=10...............................\n",
      "[CV 3/3; 4/10] END leaf_size=90, n_neighbors=10;, score=0.981 total time=   0.4s\n",
      "[CV 1/3; 5/10] START leaf_size=105, n_neighbors=25..............................\n",
      "[CV 1/3; 5/10] END leaf_size=105, n_neighbors=25;, score=0.974 total time=   0.7s\n",
      "[CV 2/3; 5/10] START leaf_size=105, n_neighbors=25..............................\n",
      "[CV 2/3; 5/10] END leaf_size=105, n_neighbors=25;, score=0.974 total time=   0.6s\n",
      "[CV 3/3; 5/10] START leaf_size=105, n_neighbors=25..............................\n",
      "[CV 3/3; 5/10] END leaf_size=105, n_neighbors=25;, score=0.973 total time=   0.8s\n",
      "[CV 1/3; 6/10] START leaf_size=30, n_neighbors=5................................\n",
      "[CV 1/3; 6/10] END .leaf_size=30, n_neighbors=5;, score=0.982 total time=   0.8s\n",
      "[CV 2/3; 6/10] START leaf_size=30, n_neighbors=5................................\n",
      "[CV 2/3; 6/10] END .leaf_size=30, n_neighbors=5;, score=0.982 total time=   0.8s\n",
      "[CV 3/3; 6/10] START leaf_size=30, n_neighbors=5................................\n",
      "[CV 3/3; 6/10] END .leaf_size=30, n_neighbors=5;, score=0.983 total time=   0.6s\n",
      "[CV 1/3; 7/10] START leaf_size=60, n_neighbors=5................................\n",
      "[CV 1/3; 7/10] END .leaf_size=60, n_neighbors=5;, score=0.982 total time=   0.5s\n",
      "[CV 2/3; 7/10] START leaf_size=60, n_neighbors=5................................\n",
      "[CV 2/3; 7/10] END .leaf_size=60, n_neighbors=5;, score=0.982 total time=   0.4s\n",
      "[CV 3/3; 7/10] START leaf_size=60, n_neighbors=5................................\n",
      "[CV 3/3; 7/10] END .leaf_size=60, n_neighbors=5;, score=0.983 total time=   0.4s\n",
      "[CV 1/3; 8/10] START leaf_size=30, n_neighbors=50...............................\n",
      "[CV 1/3; 8/10] END leaf_size=30, n_neighbors=50;, score=0.964 total time=   0.5s\n",
      "[CV 2/3; 8/10] START leaf_size=30, n_neighbors=50...............................\n",
      "[CV 2/3; 8/10] END leaf_size=30, n_neighbors=50;, score=0.962 total time=   0.5s\n",
      "[CV 3/3; 8/10] START leaf_size=30, n_neighbors=50...............................\n",
      "[CV 3/3; 8/10] END leaf_size=30, n_neighbors=50;, score=0.959 total time=   0.5s\n",
      "[CV 1/3; 9/10] START leaf_size=30, n_neighbors=25...............................\n",
      "[CV 1/3; 9/10] END leaf_size=30, n_neighbors=25;, score=0.974 total time=   0.7s\n",
      "[CV 2/3; 9/10] START leaf_size=30, n_neighbors=25...............................\n",
      "[CV 2/3; 9/10] END leaf_size=30, n_neighbors=25;, score=0.974 total time=   0.7s\n",
      "[CV 3/3; 9/10] START leaf_size=30, n_neighbors=25...............................\n",
      "[CV 3/3; 9/10] END leaf_size=30, n_neighbors=25;, score=0.973 total time=   0.7s\n",
      "[CV 1/3; 10/10] START leaf_size=60, n_neighbors=25..............................\n",
      "[CV 1/3; 10/10] END leaf_size=60, n_neighbors=25;, score=0.974 total time=   0.7s\n",
      "[CV 2/3; 10/10] START leaf_size=60, n_neighbors=25..............................\n",
      "[CV 2/3; 10/10] END leaf_size=60, n_neighbors=25;, score=0.974 total time=   0.7s\n",
      "[CV 3/3; 10/10] START leaf_size=60, n_neighbors=25..............................\n",
      "[CV 3/3; 10/10] END leaf_size=60, n_neighbors=25;, score=0.973 total time=   0.6s\n"
     ]
    }
   ],
   "source": [
    "parameters_KNN_reg = {'n_neighbors': (5,10,25,50),'leaf_size' : (30,60,90,105)}\n",
    "                                                                                                                                     \n",
    "DT_grid_KNN_reg  = RandomizedSearchCV( KNeighborsRegressor(), param_distributions = parameters_KNN_reg, cv = 3, verbose = 10)\n",
    "result_KNN_reg=DT_grid_KNN_reg.fit(X_train,y_train)\n",
    "  \n",
    "KNN_res= result_KNN_reg.best_estimator_"
   ]
  },
  {
   "cell_type": "code",
   "execution_count": 44,
   "metadata": {},
   "outputs": [
    {
     "name": "stdout",
     "output_type": "stream",
     "text": [
      "KNeighborsRegressor(leaf_size=105)\n"
     ]
    }
   ],
   "source": [
    "print(KNN_res)"
   ]
  },
  {
   "cell_type": "code",
   "execution_count": 21,
   "metadata": {},
   "outputs": [],
   "source": [
    "from sklearn.svm import SVR"
   ]
  },
  {
   "cell_type": "markdown",
   "metadata": {},
   "source": [
    "Hyper parameter optimization of svr"
   ]
  },
  {
   "cell_type": "code",
   "execution_count": 22,
   "metadata": {},
   "outputs": [
    {
     "name": "stdout",
     "output_type": "stream",
     "text": [
      "Fitting 3 folds for each of 10 candidates, totalling 30 fits\n",
      "[CV 1/3; 1/10] START C=50, epsilon=10...........................................\n",
      "[CV 1/3; 1/10] END ............C=50, epsilon=10;, score=0.962 total time=  14.6s\n",
      "[CV 2/3; 1/10] START C=50, epsilon=10...........................................\n",
      "[CV 2/3; 1/10] END ............C=50, epsilon=10;, score=0.962 total time=  13.7s\n",
      "[CV 3/3; 1/10] START C=50, epsilon=10...........................................\n",
      "[CV 3/3; 1/10] END ............C=50, epsilon=10;, score=0.960 total time=  12.1s\n",
      "[CV 1/3; 2/10] START C=1, epsilon=10............................................\n",
      "[CV 1/3; 2/10] END .............C=1, epsilon=10;, score=0.792 total time=  22.9s\n",
      "[CV 2/3; 2/10] START C=1, epsilon=10............................................\n",
      "[CV 2/3; 2/10] END .............C=1, epsilon=10;, score=0.799 total time=  25.2s\n",
      "[CV 3/3; 2/10] START C=1, epsilon=10............................................\n",
      "[CV 3/3; 2/10] END .............C=1, epsilon=10;, score=0.789 total time=  23.2s\n",
      "[CV 1/3; 3/10] START C=5, epsilon=10............................................\n",
      "[CV 1/3; 3/10] END .............C=5, epsilon=10;, score=0.897 total time=  15.4s\n",
      "[CV 2/3; 3/10] START C=5, epsilon=10............................................\n",
      "[CV 2/3; 3/10] END .............C=5, epsilon=10;, score=0.904 total time=  15.6s\n",
      "[CV 3/3; 3/10] START C=5, epsilon=10............................................\n",
      "[CV 3/3; 3/10] END .............C=5, epsilon=10;, score=0.893 total time=  15.4s\n",
      "[CV 1/3; 4/10] START C=50, epsilon=0.5..........................................\n",
      "[CV 1/3; 4/10] END ...........C=50, epsilon=0.5;, score=0.969 total time=  45.0s\n",
      "[CV 2/3; 4/10] START C=50, epsilon=0.5..........................................\n",
      "[CV 2/3; 4/10] END ...........C=50, epsilon=0.5;, score=0.970 total time=  46.2s\n",
      "[CV 3/3; 4/10] START C=50, epsilon=0.5..........................................\n",
      "[CV 3/3; 4/10] END ...........C=50, epsilon=0.5;, score=0.967 total time=  45.3s\n",
      "[CV 1/3; 5/10] START C=10, epsilon=10...........................................\n",
      "[CV 1/3; 5/10] END ............C=10, epsilon=10;, score=0.929 total time=  15.2s\n",
      "[CV 2/3; 5/10] START C=10, epsilon=10...........................................\n",
      "[CV 2/3; 5/10] END ............C=10, epsilon=10;, score=0.934 total time=  16.0s\n",
      "[CV 3/3; 5/10] START C=10, epsilon=10...........................................\n",
      "[CV 3/3; 5/10] END ............C=10, epsilon=10;, score=0.926 total time=  15.1s\n",
      "[CV 1/3; 6/10] START C=50, epsilon=1............................................\n",
      "[CV 1/3; 6/10] END .............C=50, epsilon=1;, score=0.969 total time=  42.5s\n",
      "[CV 2/3; 6/10] START C=50, epsilon=1............................................\n",
      "[CV 2/3; 6/10] END .............C=50, epsilon=1;, score=0.970 total time=  35.8s\n",
      "[CV 3/3; 6/10] START C=50, epsilon=1............................................\n",
      "[CV 3/3; 6/10] END .............C=50, epsilon=1;, score=0.967 total time=  43.3s\n",
      "[CV 1/3; 7/10] START C=5, epsilon=1.............................................\n",
      "[CV 1/3; 7/10] END ..............C=5, epsilon=1;, score=0.902 total time=  38.7s\n",
      "[CV 2/3; 7/10] START C=5, epsilon=1.............................................\n",
      "[CV 2/3; 7/10] END ..............C=5, epsilon=1;, score=0.910 total time=  39.6s\n",
      "[CV 3/3; 7/10] START C=5, epsilon=1.............................................\n",
      "[CV 3/3; 7/10] END ..............C=5, epsilon=1;, score=0.900 total time=  40.2s\n",
      "[CV 1/3; 8/10] START C=1, epsilon=0.5...........................................\n",
      "[CV 1/3; 8/10] END ............C=1, epsilon=0.5;, score=0.797 total time=  39.8s\n",
      "[CV 2/3; 8/10] START C=1, epsilon=0.5...........................................\n",
      "[CV 2/3; 8/10] END ............C=1, epsilon=0.5;, score=0.805 total time=  42.4s\n",
      "[CV 3/3; 8/10] START C=1, epsilon=0.5...........................................\n",
      "[CV 3/3; 8/10] END ............C=1, epsilon=0.5;, score=0.793 total time=  41.8s\n",
      "[CV 1/3; 9/10] START C=1, epsilon=1.............................................\n",
      "[CV 1/3; 9/10] END ..............C=1, epsilon=1;, score=0.797 total time=  40.5s\n",
      "[CV 2/3; 9/10] START C=1, epsilon=1.............................................\n",
      "[CV 2/3; 9/10] END ..............C=1, epsilon=1;, score=0.805 total time=  39.7s\n",
      "[CV 3/3; 9/10] START C=1, epsilon=1.............................................\n",
      "[CV 3/3; 9/10] END ..............C=1, epsilon=1;, score=0.793 total time=  36.6s\n",
      "[CV 1/3; 10/10] START C=5, epsilon=0.5..........................................\n",
      "[CV 1/3; 10/10] END ...........C=5, epsilon=0.5;, score=0.902 total time=  40.4s\n",
      "[CV 2/3; 10/10] START C=5, epsilon=0.5..........................................\n",
      "[CV 2/3; 10/10] END ...........C=5, epsilon=0.5;, score=0.910 total time=  42.2s\n",
      "[CV 3/3; 10/10] START C=5, epsilon=0.5..........................................\n",
      "[CV 3/3; 10/10] END ...........C=5, epsilon=0.5;, score=0.900 total time=  39.9s\n"
     ]
    }
   ],
   "source": [
    "parameters_SVR_reg = {'epsilon': (0.5,1,10),'C' : (1,5,10,50)}\n",
    "                                                                                                                                     \n",
    "DT_grid_svr_reg  = RandomizedSearchCV(  SVR(), param_distributions = parameters_SVR_reg, cv = 3, verbose = 10)\n",
    "result_svr_reg=DT_grid_svr_reg.fit(X_train,y_train)\n",
    "  \n",
    "svr_res= result_svr_reg.best_estimator_"
   ]
  },
  {
   "cell_type": "code",
   "execution_count": 23,
   "metadata": {},
   "outputs": [
    {
     "name": "stdout",
     "output_type": "stream",
     "text": [
      "SVR(C=50, epsilon=0.5)\n"
     ]
    }
   ],
   "source": [
    "print(svr_res)"
   ]
  },
  {
   "cell_type": "markdown",
   "metadata": {},
   "source": [
    "Random Forest Main Train and Result"
   ]
  },
  {
   "cell_type": "code",
   "execution_count": 25,
   "metadata": {},
   "outputs": [
    {
     "data": {
      "text/html": [
       "<style>#sk-container-id-1 {color: black;background-color: white;}#sk-container-id-1 pre{padding: 0;}#sk-container-id-1 div.sk-toggleable {background-color: white;}#sk-container-id-1 label.sk-toggleable__label {cursor: pointer;display: block;width: 100%;margin-bottom: 0;padding: 0.3em;box-sizing: border-box;text-align: center;}#sk-container-id-1 label.sk-toggleable__label-arrow:before {content: \"▸\";float: left;margin-right: 0.25em;color: #696969;}#sk-container-id-1 label.sk-toggleable__label-arrow:hover:before {color: black;}#sk-container-id-1 div.sk-estimator:hover label.sk-toggleable__label-arrow:before {color: black;}#sk-container-id-1 div.sk-toggleable__content {max-height: 0;max-width: 0;overflow: hidden;text-align: left;background-color: #f0f8ff;}#sk-container-id-1 div.sk-toggleable__content pre {margin: 0.2em;color: black;border-radius: 0.25em;background-color: #f0f8ff;}#sk-container-id-1 input.sk-toggleable__control:checked~div.sk-toggleable__content {max-height: 200px;max-width: 100%;overflow: auto;}#sk-container-id-1 input.sk-toggleable__control:checked~label.sk-toggleable__label-arrow:before {content: \"▾\";}#sk-container-id-1 div.sk-estimator input.sk-toggleable__control:checked~label.sk-toggleable__label {background-color: #d4ebff;}#sk-container-id-1 div.sk-label input.sk-toggleable__control:checked~label.sk-toggleable__label {background-color: #d4ebff;}#sk-container-id-1 input.sk-hidden--visually {border: 0;clip: rect(1px 1px 1px 1px);clip: rect(1px, 1px, 1px, 1px);height: 1px;margin: -1px;overflow: hidden;padding: 0;position: absolute;width: 1px;}#sk-container-id-1 div.sk-estimator {font-family: monospace;background-color: #f0f8ff;border: 1px dotted black;border-radius: 0.25em;box-sizing: border-box;margin-bottom: 0.5em;}#sk-container-id-1 div.sk-estimator:hover {background-color: #d4ebff;}#sk-container-id-1 div.sk-parallel-item::after {content: \"\";width: 100%;border-bottom: 1px solid gray;flex-grow: 1;}#sk-container-id-1 div.sk-label:hover label.sk-toggleable__label {background-color: #d4ebff;}#sk-container-id-1 div.sk-serial::before {content: \"\";position: absolute;border-left: 1px solid gray;box-sizing: border-box;top: 0;bottom: 0;left: 50%;z-index: 0;}#sk-container-id-1 div.sk-serial {display: flex;flex-direction: column;align-items: center;background-color: white;padding-right: 0.2em;padding-left: 0.2em;position: relative;}#sk-container-id-1 div.sk-item {position: relative;z-index: 1;}#sk-container-id-1 div.sk-parallel {display: flex;align-items: stretch;justify-content: center;background-color: white;position: relative;}#sk-container-id-1 div.sk-item::before, #sk-container-id-1 div.sk-parallel-item::before {content: \"\";position: absolute;border-left: 1px solid gray;box-sizing: border-box;top: 0;bottom: 0;left: 50%;z-index: -1;}#sk-container-id-1 div.sk-parallel-item {display: flex;flex-direction: column;z-index: 1;position: relative;background-color: white;}#sk-container-id-1 div.sk-parallel-item:first-child::after {align-self: flex-end;width: 50%;}#sk-container-id-1 div.sk-parallel-item:last-child::after {align-self: flex-start;width: 50%;}#sk-container-id-1 div.sk-parallel-item:only-child::after {width: 0;}#sk-container-id-1 div.sk-dashed-wrapped {border: 1px dashed gray;margin: 0 0.4em 0.5em 0.4em;box-sizing: border-box;padding-bottom: 0.4em;background-color: white;}#sk-container-id-1 div.sk-label label {font-family: monospace;font-weight: bold;display: inline-block;line-height: 1.2em;}#sk-container-id-1 div.sk-label-container {text-align: center;}#sk-container-id-1 div.sk-container {/* jupyter's `normalize.less` sets `[hidden] { display: none; }` but bootstrap.min.css set `[hidden] { display: none !important; }` so we also need the `!important` here to be able to override the default hidden behavior on the sphinx rendered scikit-learn.org. See: https://github.com/scikit-learn/scikit-learn/issues/21755 */display: inline-block !important;position: relative;}#sk-container-id-1 div.sk-text-repr-fallback {display: none;}</style><div id=\"sk-container-id-1\" class=\"sk-top-container\"><div class=\"sk-text-repr-fallback\"><pre>RandomForestRegressor(max_depth=20, n_estimators=40, random_state=0)</pre><b>In a Jupyter environment, please rerun this cell to show the HTML representation or trust the notebook. <br />On GitHub, the HTML representation is unable to render, please try loading this page with nbviewer.org.</b></div><div class=\"sk-container\" hidden><div class=\"sk-item\"><div class=\"sk-estimator sk-toggleable\"><input class=\"sk-toggleable__control sk-hidden--visually\" id=\"sk-estimator-id-1\" type=\"checkbox\" checked><label for=\"sk-estimator-id-1\" class=\"sk-toggleable__label sk-toggleable__label-arrow\">RandomForestRegressor</label><div class=\"sk-toggleable__content\"><pre>RandomForestRegressor(max_depth=20, n_estimators=40, random_state=0)</pre></div></div></div></div></div>"
      ],
      "text/plain": [
       "RandomForestRegressor(max_depth=20, n_estimators=40, random_state=0)"
      ]
     },
     "execution_count": 25,
     "metadata": {},
     "output_type": "execute_result"
    }
   ],
   "source": [
    "reg_RF = RandomForestRegressor(max_depth=20, n_estimators=40, random_state=0)\n",
    "reg_RF.fit(X_train, y_train)"
   ]
  },
  {
   "cell_type": "code",
   "execution_count": 26,
   "metadata": {},
   "outputs": [
    {
     "name": "stdout",
     "output_type": "stream",
     "text": [
      "3.0209633570577816\n"
     ]
    }
   ],
   "source": [
    "reg_RF_pred= reg_RF.predict(X_test)\n",
    "rmse_reg_RF = math.sqrt(mean_squared_error(y_test, reg_RF_pred, squared=False))\n",
    "print(rmse_reg_RF)"
   ]
  },
  {
   "cell_type": "code",
   "execution_count": 27,
   "metadata": {},
   "outputs": [
    {
     "name": "stdout",
     "output_type": "stream",
     "text": [
      "4.9546149450570836\n"
     ]
    }
   ],
   "source": [
    "mae_reg_RF= mae(y_test, reg_RF_pred)\n",
    "print(mae_reg_RF)"
   ]
  },
  {
   "cell_type": "markdown",
   "metadata": {},
   "source": [
    "Training and testing with Ridge Regressor"
   ]
  },
  {
   "cell_type": "code",
   "execution_count": 28,
   "metadata": {},
   "outputs": [
    {
     "data": {
      "text/html": [
       "<style>#sk-container-id-2 {color: black;background-color: white;}#sk-container-id-2 pre{padding: 0;}#sk-container-id-2 div.sk-toggleable {background-color: white;}#sk-container-id-2 label.sk-toggleable__label {cursor: pointer;display: block;width: 100%;margin-bottom: 0;padding: 0.3em;box-sizing: border-box;text-align: center;}#sk-container-id-2 label.sk-toggleable__label-arrow:before {content: \"▸\";float: left;margin-right: 0.25em;color: #696969;}#sk-container-id-2 label.sk-toggleable__label-arrow:hover:before {color: black;}#sk-container-id-2 div.sk-estimator:hover label.sk-toggleable__label-arrow:before {color: black;}#sk-container-id-2 div.sk-toggleable__content {max-height: 0;max-width: 0;overflow: hidden;text-align: left;background-color: #f0f8ff;}#sk-container-id-2 div.sk-toggleable__content pre {margin: 0.2em;color: black;border-radius: 0.25em;background-color: #f0f8ff;}#sk-container-id-2 input.sk-toggleable__control:checked~div.sk-toggleable__content {max-height: 200px;max-width: 100%;overflow: auto;}#sk-container-id-2 input.sk-toggleable__control:checked~label.sk-toggleable__label-arrow:before {content: \"▾\";}#sk-container-id-2 div.sk-estimator input.sk-toggleable__control:checked~label.sk-toggleable__label {background-color: #d4ebff;}#sk-container-id-2 div.sk-label input.sk-toggleable__control:checked~label.sk-toggleable__label {background-color: #d4ebff;}#sk-container-id-2 input.sk-hidden--visually {border: 0;clip: rect(1px 1px 1px 1px);clip: rect(1px, 1px, 1px, 1px);height: 1px;margin: -1px;overflow: hidden;padding: 0;position: absolute;width: 1px;}#sk-container-id-2 div.sk-estimator {font-family: monospace;background-color: #f0f8ff;border: 1px dotted black;border-radius: 0.25em;box-sizing: border-box;margin-bottom: 0.5em;}#sk-container-id-2 div.sk-estimator:hover {background-color: #d4ebff;}#sk-container-id-2 div.sk-parallel-item::after {content: \"\";width: 100%;border-bottom: 1px solid gray;flex-grow: 1;}#sk-container-id-2 div.sk-label:hover label.sk-toggleable__label {background-color: #d4ebff;}#sk-container-id-2 div.sk-serial::before {content: \"\";position: absolute;border-left: 1px solid gray;box-sizing: border-box;top: 0;bottom: 0;left: 50%;z-index: 0;}#sk-container-id-2 div.sk-serial {display: flex;flex-direction: column;align-items: center;background-color: white;padding-right: 0.2em;padding-left: 0.2em;position: relative;}#sk-container-id-2 div.sk-item {position: relative;z-index: 1;}#sk-container-id-2 div.sk-parallel {display: flex;align-items: stretch;justify-content: center;background-color: white;position: relative;}#sk-container-id-2 div.sk-item::before, #sk-container-id-2 div.sk-parallel-item::before {content: \"\";position: absolute;border-left: 1px solid gray;box-sizing: border-box;top: 0;bottom: 0;left: 50%;z-index: -1;}#sk-container-id-2 div.sk-parallel-item {display: flex;flex-direction: column;z-index: 1;position: relative;background-color: white;}#sk-container-id-2 div.sk-parallel-item:first-child::after {align-self: flex-end;width: 50%;}#sk-container-id-2 div.sk-parallel-item:last-child::after {align-self: flex-start;width: 50%;}#sk-container-id-2 div.sk-parallel-item:only-child::after {width: 0;}#sk-container-id-2 div.sk-dashed-wrapped {border: 1px dashed gray;margin: 0 0.4em 0.5em 0.4em;box-sizing: border-box;padding-bottom: 0.4em;background-color: white;}#sk-container-id-2 div.sk-label label {font-family: monospace;font-weight: bold;display: inline-block;line-height: 1.2em;}#sk-container-id-2 div.sk-label-container {text-align: center;}#sk-container-id-2 div.sk-container {/* jupyter's `normalize.less` sets `[hidden] { display: none; }` but bootstrap.min.css set `[hidden] { display: none !important; }` so we also need the `!important` here to be able to override the default hidden behavior on the sphinx rendered scikit-learn.org. See: https://github.com/scikit-learn/scikit-learn/issues/21755 */display: inline-block !important;position: relative;}#sk-container-id-2 div.sk-text-repr-fallback {display: none;}</style><div id=\"sk-container-id-2\" class=\"sk-top-container\"><div class=\"sk-text-repr-fallback\"><pre>Ridge(alpha=10, random_state=0)</pre><b>In a Jupyter environment, please rerun this cell to show the HTML representation or trust the notebook. <br />On GitHub, the HTML representation is unable to render, please try loading this page with nbviewer.org.</b></div><div class=\"sk-container\" hidden><div class=\"sk-item\"><div class=\"sk-estimator sk-toggleable\"><input class=\"sk-toggleable__control sk-hidden--visually\" id=\"sk-estimator-id-2\" type=\"checkbox\" checked><label for=\"sk-estimator-id-2\" class=\"sk-toggleable__label sk-toggleable__label-arrow\">Ridge</label><div class=\"sk-toggleable__content\"><pre>Ridge(alpha=10, random_state=0)</pre></div></div></div></div></div>"
      ],
      "text/plain": [
       "Ridge(alpha=10, random_state=0)"
      ]
     },
     "execution_count": 28,
     "metadata": {},
     "output_type": "execute_result"
    }
   ],
   "source": [
    "reg_ridge = linear_model.Ridge(alpha=10, random_state=0)\n",
    "reg_ridge.fit(X_train, y_train)"
   ]
  },
  {
   "cell_type": "code",
   "execution_count": 29,
   "metadata": {},
   "outputs": [
    {
     "name": "stdout",
     "output_type": "stream",
     "text": [
      "4.448313226879736\n"
     ]
    }
   ],
   "source": [
    "reg_ridge_pred= reg_ridge.predict(X_test)\n",
    "rmse_reg_ridge = math.sqrt(mean_squared_error(y_test, reg_ridge_pred, squared=False))\n",
    "print(rmse_reg_ridge)"
   ]
  },
  {
   "cell_type": "code",
   "execution_count": 30,
   "metadata": {},
   "outputs": [
    {
     "name": "stdout",
     "output_type": "stream",
     "text": [
      "14.944311918484438\n"
     ]
    }
   ],
   "source": [
    "mae_reg_ridge= mae(y_test, reg_ridge_pred)\n",
    "print(mae_reg_ridge)"
   ]
  },
  {
   "cell_type": "markdown",
   "metadata": {},
   "source": [
    "Training and testing with Lasso Regressor"
   ]
  },
  {
   "cell_type": "code",
   "execution_count": 40,
   "metadata": {},
   "outputs": [
    {
     "data": {
      "text/html": [
       "<style>#sk-container-id-6 {color: black;background-color: white;}#sk-container-id-6 pre{padding: 0;}#sk-container-id-6 div.sk-toggleable {background-color: white;}#sk-container-id-6 label.sk-toggleable__label {cursor: pointer;display: block;width: 100%;margin-bottom: 0;padding: 0.3em;box-sizing: border-box;text-align: center;}#sk-container-id-6 label.sk-toggleable__label-arrow:before {content: \"▸\";float: left;margin-right: 0.25em;color: #696969;}#sk-container-id-6 label.sk-toggleable__label-arrow:hover:before {color: black;}#sk-container-id-6 div.sk-estimator:hover label.sk-toggleable__label-arrow:before {color: black;}#sk-container-id-6 div.sk-toggleable__content {max-height: 0;max-width: 0;overflow: hidden;text-align: left;background-color: #f0f8ff;}#sk-container-id-6 div.sk-toggleable__content pre {margin: 0.2em;color: black;border-radius: 0.25em;background-color: #f0f8ff;}#sk-container-id-6 input.sk-toggleable__control:checked~div.sk-toggleable__content {max-height: 200px;max-width: 100%;overflow: auto;}#sk-container-id-6 input.sk-toggleable__control:checked~label.sk-toggleable__label-arrow:before {content: \"▾\";}#sk-container-id-6 div.sk-estimator input.sk-toggleable__control:checked~label.sk-toggleable__label {background-color: #d4ebff;}#sk-container-id-6 div.sk-label input.sk-toggleable__control:checked~label.sk-toggleable__label {background-color: #d4ebff;}#sk-container-id-6 input.sk-hidden--visually {border: 0;clip: rect(1px 1px 1px 1px);clip: rect(1px, 1px, 1px, 1px);height: 1px;margin: -1px;overflow: hidden;padding: 0;position: absolute;width: 1px;}#sk-container-id-6 div.sk-estimator {font-family: monospace;background-color: #f0f8ff;border: 1px dotted black;border-radius: 0.25em;box-sizing: border-box;margin-bottom: 0.5em;}#sk-container-id-6 div.sk-estimator:hover {background-color: #d4ebff;}#sk-container-id-6 div.sk-parallel-item::after {content: \"\";width: 100%;border-bottom: 1px solid gray;flex-grow: 1;}#sk-container-id-6 div.sk-label:hover label.sk-toggleable__label {background-color: #d4ebff;}#sk-container-id-6 div.sk-serial::before {content: \"\";position: absolute;border-left: 1px solid gray;box-sizing: border-box;top: 0;bottom: 0;left: 50%;z-index: 0;}#sk-container-id-6 div.sk-serial {display: flex;flex-direction: column;align-items: center;background-color: white;padding-right: 0.2em;padding-left: 0.2em;position: relative;}#sk-container-id-6 div.sk-item {position: relative;z-index: 1;}#sk-container-id-6 div.sk-parallel {display: flex;align-items: stretch;justify-content: center;background-color: white;position: relative;}#sk-container-id-6 div.sk-item::before, #sk-container-id-6 div.sk-parallel-item::before {content: \"\";position: absolute;border-left: 1px solid gray;box-sizing: border-box;top: 0;bottom: 0;left: 50%;z-index: -1;}#sk-container-id-6 div.sk-parallel-item {display: flex;flex-direction: column;z-index: 1;position: relative;background-color: white;}#sk-container-id-6 div.sk-parallel-item:first-child::after {align-self: flex-end;width: 50%;}#sk-container-id-6 div.sk-parallel-item:last-child::after {align-self: flex-start;width: 50%;}#sk-container-id-6 div.sk-parallel-item:only-child::after {width: 0;}#sk-container-id-6 div.sk-dashed-wrapped {border: 1px dashed gray;margin: 0 0.4em 0.5em 0.4em;box-sizing: border-box;padding-bottom: 0.4em;background-color: white;}#sk-container-id-6 div.sk-label label {font-family: monospace;font-weight: bold;display: inline-block;line-height: 1.2em;}#sk-container-id-6 div.sk-label-container {text-align: center;}#sk-container-id-6 div.sk-container {/* jupyter's `normalize.less` sets `[hidden] { display: none; }` but bootstrap.min.css set `[hidden] { display: none !important; }` so we also need the `!important` here to be able to override the default hidden behavior on the sphinx rendered scikit-learn.org. See: https://github.com/scikit-learn/scikit-learn/issues/21755 */display: inline-block !important;position: relative;}#sk-container-id-6 div.sk-text-repr-fallback {display: none;}</style><div id=\"sk-container-id-6\" class=\"sk-top-container\"><div class=\"sk-text-repr-fallback\"><pre>Lasso(alpha=0.5, random_state=0, tol=0.001)</pre><b>In a Jupyter environment, please rerun this cell to show the HTML representation or trust the notebook. <br />On GitHub, the HTML representation is unable to render, please try loading this page with nbviewer.org.</b></div><div class=\"sk-container\" hidden><div class=\"sk-item\"><div class=\"sk-estimator sk-toggleable\"><input class=\"sk-toggleable__control sk-hidden--visually\" id=\"sk-estimator-id-6\" type=\"checkbox\" checked><label for=\"sk-estimator-id-6\" class=\"sk-toggleable__label sk-toggleable__label-arrow\">Lasso</label><div class=\"sk-toggleable__content\"><pre>Lasso(alpha=0.5, random_state=0, tol=0.001)</pre></div></div></div></div></div>"
      ],
      "text/plain": [
       "Lasso(alpha=0.5, random_state=0, tol=0.001)"
      ]
     },
     "execution_count": 40,
     "metadata": {},
     "output_type": "execute_result"
    }
   ],
   "source": [
    "reg_Lasso = linear_model.Lasso(alpha=0.5, tol=0.001, random_state=0)\n",
    "reg_Lasso.fit(X_train, y_train)"
   ]
  },
  {
   "cell_type": "code",
   "execution_count": 41,
   "metadata": {},
   "outputs": [
    {
     "name": "stdout",
     "output_type": "stream",
     "text": [
      "4.49290083820079\n"
     ]
    }
   ],
   "source": [
    "reg_lasso_pred= reg_Lasso.predict(X_test)\n",
    "rmse_reg_lasso = math.sqrt(mean_squared_error(y_test, reg_lasso_pred, squared=False))\n",
    "print(rmse_reg_lasso)"
   ]
  },
  {
   "cell_type": "code",
   "execution_count": 42,
   "metadata": {},
   "outputs": [
    {
     "name": "stdout",
     "output_type": "stream",
     "text": [
      "15.345904668798177\n"
     ]
    }
   ],
   "source": [
    "mae_reg_lasso= mae(y_test, reg_lasso_pred)\n",
    "print(mae_reg_lasso)"
   ]
  },
  {
   "cell_type": "markdown",
   "metadata": {},
   "source": [
    "Training and Testing with K Neigbour Regressor"
   ]
  },
  {
   "cell_type": "code",
   "execution_count": 45,
   "metadata": {},
   "outputs": [
    {
     "data": {
      "text/html": [
       "<style>#sk-container-id-7 {color: black;background-color: white;}#sk-container-id-7 pre{padding: 0;}#sk-container-id-7 div.sk-toggleable {background-color: white;}#sk-container-id-7 label.sk-toggleable__label {cursor: pointer;display: block;width: 100%;margin-bottom: 0;padding: 0.3em;box-sizing: border-box;text-align: center;}#sk-container-id-7 label.sk-toggleable__label-arrow:before {content: \"▸\";float: left;margin-right: 0.25em;color: #696969;}#sk-container-id-7 label.sk-toggleable__label-arrow:hover:before {color: black;}#sk-container-id-7 div.sk-estimator:hover label.sk-toggleable__label-arrow:before {color: black;}#sk-container-id-7 div.sk-toggleable__content {max-height: 0;max-width: 0;overflow: hidden;text-align: left;background-color: #f0f8ff;}#sk-container-id-7 div.sk-toggleable__content pre {margin: 0.2em;color: black;border-radius: 0.25em;background-color: #f0f8ff;}#sk-container-id-7 input.sk-toggleable__control:checked~div.sk-toggleable__content {max-height: 200px;max-width: 100%;overflow: auto;}#sk-container-id-7 input.sk-toggleable__control:checked~label.sk-toggleable__label-arrow:before {content: \"▾\";}#sk-container-id-7 div.sk-estimator input.sk-toggleable__control:checked~label.sk-toggleable__label {background-color: #d4ebff;}#sk-container-id-7 div.sk-label input.sk-toggleable__control:checked~label.sk-toggleable__label {background-color: #d4ebff;}#sk-container-id-7 input.sk-hidden--visually {border: 0;clip: rect(1px 1px 1px 1px);clip: rect(1px, 1px, 1px, 1px);height: 1px;margin: -1px;overflow: hidden;padding: 0;position: absolute;width: 1px;}#sk-container-id-7 div.sk-estimator {font-family: monospace;background-color: #f0f8ff;border: 1px dotted black;border-radius: 0.25em;box-sizing: border-box;margin-bottom: 0.5em;}#sk-container-id-7 div.sk-estimator:hover {background-color: #d4ebff;}#sk-container-id-7 div.sk-parallel-item::after {content: \"\";width: 100%;border-bottom: 1px solid gray;flex-grow: 1;}#sk-container-id-7 div.sk-label:hover label.sk-toggleable__label {background-color: #d4ebff;}#sk-container-id-7 div.sk-serial::before {content: \"\";position: absolute;border-left: 1px solid gray;box-sizing: border-box;top: 0;bottom: 0;left: 50%;z-index: 0;}#sk-container-id-7 div.sk-serial {display: flex;flex-direction: column;align-items: center;background-color: white;padding-right: 0.2em;padding-left: 0.2em;position: relative;}#sk-container-id-7 div.sk-item {position: relative;z-index: 1;}#sk-container-id-7 div.sk-parallel {display: flex;align-items: stretch;justify-content: center;background-color: white;position: relative;}#sk-container-id-7 div.sk-item::before, #sk-container-id-7 div.sk-parallel-item::before {content: \"\";position: absolute;border-left: 1px solid gray;box-sizing: border-box;top: 0;bottom: 0;left: 50%;z-index: -1;}#sk-container-id-7 div.sk-parallel-item {display: flex;flex-direction: column;z-index: 1;position: relative;background-color: white;}#sk-container-id-7 div.sk-parallel-item:first-child::after {align-self: flex-end;width: 50%;}#sk-container-id-7 div.sk-parallel-item:last-child::after {align-self: flex-start;width: 50%;}#sk-container-id-7 div.sk-parallel-item:only-child::after {width: 0;}#sk-container-id-7 div.sk-dashed-wrapped {border: 1px dashed gray;margin: 0 0.4em 0.5em 0.4em;box-sizing: border-box;padding-bottom: 0.4em;background-color: white;}#sk-container-id-7 div.sk-label label {font-family: monospace;font-weight: bold;display: inline-block;line-height: 1.2em;}#sk-container-id-7 div.sk-label-container {text-align: center;}#sk-container-id-7 div.sk-container {/* jupyter's `normalize.less` sets `[hidden] { display: none; }` but bootstrap.min.css set `[hidden] { display: none !important; }` so we also need the `!important` here to be able to override the default hidden behavior on the sphinx rendered scikit-learn.org. See: https://github.com/scikit-learn/scikit-learn/issues/21755 */display: inline-block !important;position: relative;}#sk-container-id-7 div.sk-text-repr-fallback {display: none;}</style><div id=\"sk-container-id-7\" class=\"sk-top-container\"><div class=\"sk-text-repr-fallback\"><pre>KNeighborsRegressor(leaf_size=105)</pre><b>In a Jupyter environment, please rerun this cell to show the HTML representation or trust the notebook. <br />On GitHub, the HTML representation is unable to render, please try loading this page with nbviewer.org.</b></div><div class=\"sk-container\" hidden><div class=\"sk-item\"><div class=\"sk-estimator sk-toggleable\"><input class=\"sk-toggleable__control sk-hidden--visually\" id=\"sk-estimator-id-7\" type=\"checkbox\" checked><label for=\"sk-estimator-id-7\" class=\"sk-toggleable__label sk-toggleable__label-arrow\">KNeighborsRegressor</label><div class=\"sk-toggleable__content\"><pre>KNeighborsRegressor(leaf_size=105)</pre></div></div></div></div></div>"
      ],
      "text/plain": [
       "KNeighborsRegressor(leaf_size=105)"
      ]
     },
     "execution_count": 45,
     "metadata": {},
     "output_type": "execute_result"
    }
   ],
   "source": [
    "reg_KNN = KNeighborsRegressor(leaf_size=105)\n",
    "reg_KNN.fit(X_train, y_train)"
   ]
  },
  {
   "cell_type": "code",
   "execution_count": 46,
   "metadata": {},
   "outputs": [
    {
     "name": "stdout",
     "output_type": "stream",
     "text": [
      "2.922805347470722\n"
     ]
    }
   ],
   "source": [
    "reg_KNN_pred= reg_KNN.predict(X_test)\n",
    "rmse_reg_KNN = math.sqrt(mean_squared_error(y_test, reg_KNN_pred, squared=False))\n",
    "print(rmse_reg_KNN)"
   ]
  },
  {
   "cell_type": "code",
   "execution_count": 47,
   "metadata": {},
   "outputs": [
    {
     "name": "stdout",
     "output_type": "stream",
     "text": [
      "4.247143005650762\n"
     ]
    }
   ],
   "source": [
    "mae_reg_KNN= mae(y_test, reg_KNN_pred)\n",
    "print(mae_reg_KNN)"
   ]
  },
  {
   "cell_type": "markdown",
   "metadata": {},
   "source": [
    "Training and Testing with SVR"
   ]
  },
  {
   "cell_type": "code",
   "execution_count": 48,
   "metadata": {},
   "outputs": [
    {
     "data": {
      "text/html": [
       "<style>#sk-container-id-8 {color: black;background-color: white;}#sk-container-id-8 pre{padding: 0;}#sk-container-id-8 div.sk-toggleable {background-color: white;}#sk-container-id-8 label.sk-toggleable__label {cursor: pointer;display: block;width: 100%;margin-bottom: 0;padding: 0.3em;box-sizing: border-box;text-align: center;}#sk-container-id-8 label.sk-toggleable__label-arrow:before {content: \"▸\";float: left;margin-right: 0.25em;color: #696969;}#sk-container-id-8 label.sk-toggleable__label-arrow:hover:before {color: black;}#sk-container-id-8 div.sk-estimator:hover label.sk-toggleable__label-arrow:before {color: black;}#sk-container-id-8 div.sk-toggleable__content {max-height: 0;max-width: 0;overflow: hidden;text-align: left;background-color: #f0f8ff;}#sk-container-id-8 div.sk-toggleable__content pre {margin: 0.2em;color: black;border-radius: 0.25em;background-color: #f0f8ff;}#sk-container-id-8 input.sk-toggleable__control:checked~div.sk-toggleable__content {max-height: 200px;max-width: 100%;overflow: auto;}#sk-container-id-8 input.sk-toggleable__control:checked~label.sk-toggleable__label-arrow:before {content: \"▾\";}#sk-container-id-8 div.sk-estimator input.sk-toggleable__control:checked~label.sk-toggleable__label {background-color: #d4ebff;}#sk-container-id-8 div.sk-label input.sk-toggleable__control:checked~label.sk-toggleable__label {background-color: #d4ebff;}#sk-container-id-8 input.sk-hidden--visually {border: 0;clip: rect(1px 1px 1px 1px);clip: rect(1px, 1px, 1px, 1px);height: 1px;margin: -1px;overflow: hidden;padding: 0;position: absolute;width: 1px;}#sk-container-id-8 div.sk-estimator {font-family: monospace;background-color: #f0f8ff;border: 1px dotted black;border-radius: 0.25em;box-sizing: border-box;margin-bottom: 0.5em;}#sk-container-id-8 div.sk-estimator:hover {background-color: #d4ebff;}#sk-container-id-8 div.sk-parallel-item::after {content: \"\";width: 100%;border-bottom: 1px solid gray;flex-grow: 1;}#sk-container-id-8 div.sk-label:hover label.sk-toggleable__label {background-color: #d4ebff;}#sk-container-id-8 div.sk-serial::before {content: \"\";position: absolute;border-left: 1px solid gray;box-sizing: border-box;top: 0;bottom: 0;left: 50%;z-index: 0;}#sk-container-id-8 div.sk-serial {display: flex;flex-direction: column;align-items: center;background-color: white;padding-right: 0.2em;padding-left: 0.2em;position: relative;}#sk-container-id-8 div.sk-item {position: relative;z-index: 1;}#sk-container-id-8 div.sk-parallel {display: flex;align-items: stretch;justify-content: center;background-color: white;position: relative;}#sk-container-id-8 div.sk-item::before, #sk-container-id-8 div.sk-parallel-item::before {content: \"\";position: absolute;border-left: 1px solid gray;box-sizing: border-box;top: 0;bottom: 0;left: 50%;z-index: -1;}#sk-container-id-8 div.sk-parallel-item {display: flex;flex-direction: column;z-index: 1;position: relative;background-color: white;}#sk-container-id-8 div.sk-parallel-item:first-child::after {align-self: flex-end;width: 50%;}#sk-container-id-8 div.sk-parallel-item:last-child::after {align-self: flex-start;width: 50%;}#sk-container-id-8 div.sk-parallel-item:only-child::after {width: 0;}#sk-container-id-8 div.sk-dashed-wrapped {border: 1px dashed gray;margin: 0 0.4em 0.5em 0.4em;box-sizing: border-box;padding-bottom: 0.4em;background-color: white;}#sk-container-id-8 div.sk-label label {font-family: monospace;font-weight: bold;display: inline-block;line-height: 1.2em;}#sk-container-id-8 div.sk-label-container {text-align: center;}#sk-container-id-8 div.sk-container {/* jupyter's `normalize.less` sets `[hidden] { display: none; }` but bootstrap.min.css set `[hidden] { display: none !important; }` so we also need the `!important` here to be able to override the default hidden behavior on the sphinx rendered scikit-learn.org. See: https://github.com/scikit-learn/scikit-learn/issues/21755 */display: inline-block !important;position: relative;}#sk-container-id-8 div.sk-text-repr-fallback {display: none;}</style><div id=\"sk-container-id-8\" class=\"sk-top-container\"><div class=\"sk-text-repr-fallback\"><pre>SVR(C=50, epsilon=0.5)</pre><b>In a Jupyter environment, please rerun this cell to show the HTML representation or trust the notebook. <br />On GitHub, the HTML representation is unable to render, please try loading this page with nbviewer.org.</b></div><div class=\"sk-container\" hidden><div class=\"sk-item\"><div class=\"sk-estimator sk-toggleable\"><input class=\"sk-toggleable__control sk-hidden--visually\" id=\"sk-estimator-id-8\" type=\"checkbox\" checked><label for=\"sk-estimator-id-8\" class=\"sk-toggleable__label sk-toggleable__label-arrow\">SVR</label><div class=\"sk-toggleable__content\"><pre>SVR(C=50, epsilon=0.5)</pre></div></div></div></div></div>"
      ],
      "text/plain": [
       "SVR(C=50, epsilon=0.5)"
      ]
     },
     "execution_count": 48,
     "metadata": {},
     "output_type": "execute_result"
    }
   ],
   "source": [
    "reg_SVR = SVR(C=50, epsilon=0.5)\n",
    "reg_SVR.fit(X_train, y_train)"
   ]
  },
  {
   "cell_type": "code",
   "execution_count": 49,
   "metadata": {},
   "outputs": [
    {
     "name": "stdout",
     "output_type": "stream",
     "text": [
      "3.2975904058460297\n"
     ]
    }
   ],
   "source": [
    "reg_SVR_pred= reg_SVR.predict(X_test)\n",
    "rmse_reg_SVR = math.sqrt(mean_squared_error(y_test, reg_SVR_pred, squared=False))\n",
    "print(rmse_reg_SVR)"
   ]
  },
  {
   "cell_type": "code",
   "execution_count": 50,
   "metadata": {},
   "outputs": [
    {
     "name": "stdout",
     "output_type": "stream",
     "text": [
      "5.629756036485577\n"
     ]
    }
   ],
   "source": [
    "mae_reg_SVR= mae(y_test, reg_SVR_pred)\n",
    "print(mae_reg_SVR)"
   ]
  }
 ],
 "metadata": {
  "kernelspec": {
   "display_name": "Python 3.8.10 64-bit",
   "language": "python",
   "name": "python3"
  },
  "language_info": {
   "codemirror_mode": {
    "name": "ipython",
    "version": 3
   },
   "file_extension": ".py",
   "mimetype": "text/x-python",
   "name": "python",
   "nbconvert_exporter": "python",
   "pygments_lexer": "ipython3",
   "version": "3.10.6"
  },
  "orig_nbformat": 4,
  "vscode": {
   "interpreter": {
    "hash": "916dbcbb3f70747c44a77c7bcd40155683ae19c65e1c03b4aa3499c5328201f1"
   }
  }
 },
 "nbformat": 4,
 "nbformat_minor": 2
}
